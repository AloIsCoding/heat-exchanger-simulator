{
 "cells": [
  {
   "cell_type": "markdown",
   "id": "19f6099c",
   "metadata": {},
   "source": [
    "# Heat Exchanger Simulation\n",
    "**Practical Programming for Chemistry**\n",
    "\n",
    "Authors: Robin Elkaim, Roméo Bedague, Aloïsse Dantant-Cochet\n"
   ]
  },
  {
   "cell_type": "markdown",
   "id": "fc2d444e",
   "metadata": {},
   "source": [
    "## Goal of the Project\n",
    "\n",
    "The objective of this project was to go beyond the scope of the chemical engineering lab sessions (TPs). In one of our lab sessions, we studied a heat exchanger and compared co-current and counter-current configurations. As aspiring chemical engineers, we recognize the critical importance of mastering heat exchangers in industrial processes. Therefore, we aimed to develop a pedagogical tool to deepen the understanding of heat exchanger behavior.\n",
    "This project provides an interactive simulation tool that allows users to customize a heat exchanger almost from scratch, adjusting parameters such as dimensions, materials, flow rates, and heat transfer fluids. The tool generates lab reports to facilitate learning and analysis. To achieve this, we created:\n",
    "\n",
    "- A graphical user interface where users can select a lab session (TP) and configure the heat exchanger parameters.\n",
    "- A database file containing properties of fluids and materials.\n",
    "- A set of functions to perform the simulations.\n",
    "- A feature to generate downloadable lab reports, pre-filled with initial results to allow users to focus on analyzing and optimizing the heat exchanger.\n",
    "\n",
    "This notebook demonstrates the tool's capabilities and provides an example simulation."
   ]
  },
  {
   "cell_type": "markdown",
   "id": "4bf61311",
   "metadata": {},
   "source": [
    "## Project Structure\n",
    "\n",
    "The project consists of the following components:\n",
    "- GUI (interface.py) : A graphical interface (e.g., built with Tkinter or PyQt) where users select the lab session and input parameters like dimensions, materials, flow rates, and fluids.\n",
    "- Data File (utils.py): A file  containing thermophysical properties of fluids (e.g., water, oil) and materials (e.g., copper, steel).\n",
    "- Core Functions (core.py) : A Python module with functions to simulate heat exchanger performance (e.g., heat transfer rates, temperature profiles) for co-current and counter-current configurations.\n",
    "- Report Generator (report.py) : A script to produce lab reports, including simulation results and placeholders for further analysis."
   ]
  },
  {
   "cell_type": "code",
   "execution_count": null,
   "id": "f1503f49",
   "metadata": {
    "vscode": {
     "languageId": "plaintext"
    }
   },
   "outputs": [],
   "source": []
  }
 ],
 "metadata": {
  "kernelspec": {
   "display_name": "base",
   "language": "python",
   "name": "python3"
  },
  "language_info": {
   "name": "python",
   "version": "3.12.3"
  }
 },
 "nbformat": 4,
 "nbformat_minor": 5
}
