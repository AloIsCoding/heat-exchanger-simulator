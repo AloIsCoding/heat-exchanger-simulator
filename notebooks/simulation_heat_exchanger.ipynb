{
 "cells": [
  {
   "cell_type": "markdown",
   "id": "19f6099c",
   "metadata": {},
   "source": [
    "# Heat Exchanger Simulation\n",
    "**Practical Programming for Chemistry**\n",
    "\n",
    "Authors: [Robin Elkaim], [Roméo Bedague], [Aloïsse Dantant-Cochet]\n",
    "Date: [26/04/2025]\n"
   ]
  }
 ],
 "metadata": {
  "kernelspec": {
   "display_name": "base",
   "language": "python",
   "name": "python3"
  },
  "language_info": {
   "name": "python",
   "version": "3.12.3"
  }
 },
 "nbformat": 4,
 "nbformat_minor": 5
}
