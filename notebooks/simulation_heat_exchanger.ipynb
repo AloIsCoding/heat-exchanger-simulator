{
 "cells": [
  {
   "cell_type": "markdown",
   "id": "19f6099c",
   "metadata": {},
   "source": [
    "# Heat Exchanger Simulation\n",
    "**Practical Programming for Chemistry**\n",
    "\n",
    "Authors: Robin Elkaim, Roméo Bedague, Aloïsse Dantant-Cochet\n"
   ]
  },
  {
   "cell_type": "markdown",
   "id": "fc2d444e",
   "metadata": {},
   "source": [
    "## Goal of the Project\n",
    "This package was created as a collaborative project for the EPFL course Practical programming in chemistry.\n",
    "The objective of this project was to go beyond the scope of the chemical engineering lab sessions (TPs). In one of our lab sessions, we studied a heat exchanger and compared co-current and counter-current configurations. As aspiring chemical engineers, we recognize the critical importance of mastering heat exchangers in industrial processes. In fact, the heat exchanger is one if not the essential machine in the industry, which is why we decided on this one. \n",
    "Therefore, we aimed to develop a pedagogical tool to deepen the understanding of heat exchanger behavior, using the Introduction to Transport Phenomena EPFL course as a support. \n",
    "This project provides an interactive simulation tool that allows users to customize a heat exchanger almost from scratch, adjusting parameters such as dimensions, materials, flow rates, and heat transfer fluids. The tool generates lab reports to facilitate learning and analysis. To achieve this, we created:\n",
    "\n",
    "- A graphical user interface where users can select a lab session (TP) and configure the heat exchanger parameters.\n",
    "- A database file containing properties of fluids and materials.\n",
    "- A set of functions to perform the simulations.\n",
    "- A feature to generate downloadable lab reports, pre-filled with initial results to allow users to focus on analyzing and optimizing the heat exchanger.\n",
    "\n",
    "This notebook demonstrates the tool's capabilities and provides an example simulation."
   ]
  },
  {
   "cell_type": "markdown",
   "id": "4bf61311",
   "metadata": {},
   "source": [
    "## Project Structure\n",
    "\n",
    "This program uses an interface to calculate the key parameters of a heat exchanger. There are 4 modules to do this: \n",
    "The impact of the cold fluid flow rate on the outlet temperature,\n",
    "The impact of the hot fluid on the outlet temperature, \n",
    "The impact of the choice of fluids on temperatures,\n",
    "The impact of pipe dimensions and composition. \n",
    "\n",
    "For this purpose, the project consists of the following components:\n",
    "- GUI (interface.py) : A graphical interface (e.g., built with Tkinter or PyQt) where users select the lab session and input parameters like dimensions, materials, flow rates, and fluids.\n",
    "- Data File (utils.py): A file  containing thermophysical properties of fluids (e.g., water, oil) and materials (e.g., copper, steel).\n",
    "- Core Functions (core.py) : A Python module with functions to simulate heat exchanger performance (e.g., heat transfer rates, temperature profiles) for co-current and counter-current configurations.\n",
    "- Report Generator (report.py) : A script in LaTeX to produce lab reports, including simulation results and placeholders for further analysis."
   ]
  },
  {
   "cell_type": "markdown",
   "id": "3fcb6b2d",
   "metadata": {},
   "source": [
    "## Programme options\n",
    "\n",
    "This programme can therefore use certain easily observable and measurable data to calculate many other quantities. The aim of this section is to review these possibilities.\n",
    "\n",
    "To begin with, the central one develops into two similar programmes: heat received and heat transferred. Although simple, these are of crucial importance because they describe the quantity of heat, which is the essence of a heat exchanger. \n",
    "For the first, we have created a dictionary linking the names of the main fluids used in heat exchangers and their thermal capacity (Cp) in order to make it easier for the user to use them and avoid having to search for them.  "
   ]
  },
  {
   "cell_type": "code",
   "execution_count": 33,
   "id": "b744ed57",
   "metadata": {},
   "outputs": [
    {
     "name": "stdout",
     "output_type": "stream",
     "text": [
      "The heat transferred is 2093.00 W\n"
     ]
    }
   ],
   "source": [
    "# Dictionary of specific heat capacities (J/kg·K)\n",
    "specific_heat_capacity = {\n",
    "    \"water\": 4186,\n",
    "    \"air\": 1005,\n",
    "    \"thermal oil\": 2200,\n",
    "    \"glycol\": 2400,\n",
    "    \"steam\": 2010,\n",
    "    \"nitrogen\": 1040,\n",
    "    \"carbon dioxide\": 844,\n",
    "    \"ammonia\": 4700,\n",
    "    \"helium\": 5190\n",
    "}\n",
    "def calculate_heat_transfer(fluid, mass_flow_rate, temp_in, temp_out):\n",
    "    \"\"\"\n",
    "    Calculate heat transferred using Q = m * cp * (Tin - Tout)\n",
    "    \"\"\"\n",
    "    cp = specific_heat_capacity.get(fluid.lower())\n",
    "    if cp is None:\n",
    "        raise ValueError(f\"Fluid '{fluid}' not found in the database.\")\n",
    "    Q = mass_flow_rate * cp * (temp_in - temp_out)\n",
    "    return Q\n",
    "\n",
    "# Example usage\n",
    "fluid = 'water'\n",
    "mass_flow_rate = 1 #kg/s\n",
    "temp_in = 10.5\n",
    "temp_out = 10\n",
    "\n",
    "Q = calculate_heat_transfer(fluid, mass_flow_rate, temp_in, temp_out)\n",
    "print(f\"The heat transferred is {Q:.2f} W\")"
   ]
  },
  {
   "cell_type": "markdown",
   "id": "1b17485c",
   "metadata": {},
   "source": [
    "The next function is the calculation of the contact surface, a key parameter because it characterises the contact surface between the heat transfer fluid and the fluid of interest. This also requires and verify the characteristics of the heat exchanger pipes for meaning."
   ]
  },
  {
   "cell_type": "code",
   "execution_count": 24,
   "id": "5c12604b",
   "metadata": {},
   "outputs": [
    {
     "name": "stdout",
     "output_type": "stream",
     "text": [
      "Outer surface area of pipe: 18.85 m²\n"
     ]
    }
   ],
   "source": [
    "import math\n",
    "\n",
    "# Definition of pipe dimensions, values to be adjusted according to your context\n",
    "diameter = 1\n",
    "thickness = 0.1\n",
    "length = 5\n",
    "gap = 0.5\n",
    "\n",
    "pipe_properties = {\"outer_diameter\": diameter + 2*thickness, \"thickness\": thickness, \"length\": length}\n",
    "\n",
    "def calculate_outer_surface(pipe_properties):\n",
    "    \"\"\"\n",
    "    Calculates the outer contact surface area of a pipe.\n",
    "    \"\"\"\n",
    "    outer_diameter = pipe_properties[\"outer_diameter\"]\n",
    "    length = pipe_properties[\"length\"]\n",
    "    return math.pi * outer_diameter * length\n",
    "\n",
    "external_pipe = {\n",
    "        \"inter_diameter\": pipe_properties[\"outer_diameter\"] + gap,\n",
    "        \"thickness\": pipe_properties[\"thickness\"],\n",
    "        \"length\": pipe_properties[\"length\"]\n",
    "    }\n",
    "\n",
    "# Example usage\n",
    "A = calculate_outer_surface(pipe_properties)\n",
    "print(f\"Outer surface area of pipe: {A:.2f} m²\")"
   ]
  },
  {
   "cell_type": "markdown",
   "id": "47af95a6",
   "metadata": {},
   "source": [
    "Now let's get to the heart of the project, the function characterising U, the heat transfer coefficient.\n",
    "The way in which this parameter is calculated may seem obvious at first glance, but in reality it is a tangle of parameters. \n",
    "In fact, it depends on the thermal conductivity of the metal, which is easy to find, but also and above all on the convection coefficient.\n",
    "These are far from obvious and require a lot of functions and additional parameters to calculate, such as the Reynold, Prandt and Nussels numbers, which are themselves precise characteristics depending precisely on the system."
   ]
  },
  {
   "cell_type": "code",
   "execution_count": 25,
   "id": "77802a36",
   "metadata": {},
   "outputs": [
    {
     "name": "stdout",
     "output_type": "stream",
     "text": [
      "\n",
      "Reynolds number (internal fluid): 1273239.54\n",
      "Reynolds number (external fluid): 748.96\n",
      "\n",
      "Reynolds number (internal fluid): 1273239.54 → Turbulent\n",
      "Reynolds number (external fluid): 748.96 → Laminar\n",
      "\n",
      "Prandtl number (internal fluid): 2.14\n",
      "Prandtl number (external fluid): 6.98\n",
      "\n",
      "h (internal fluid): 49.76 W·m⁻²·K⁻¹ \n",
      "h (external fluid): 1.29 W·m⁻²·K⁻¹\n",
      "\n",
      "U, the overall heat coefficient of the system is: 1.25 W·m⁻²·K⁻¹\n"
     ]
    }
   ],
   "source": [
    "\n",
    "# Dictionary of specific heat capacities (J/kg·K)\n",
    "specific_heat_capacity = {\n",
    "    \"water\": 4186,\n",
    "    \"air\": 1005,\n",
    "    \"thermal oil\": 2200,\n",
    "    \"glycol\": 2400,\n",
    "    \"steam\": 2010,\n",
    "    \"nitrogen\": 1040,\n",
    "    \"carbon dioxide\": 844,\n",
    "    \"ammonia\": 4700,\n",
    "    \"helium\": 5190\n",
    "}\n",
    "\n",
    "# Dictionary of density (kg/L)\n",
    "density = {\n",
    "    \"water\": 1.0,\n",
    "    \"air\": 0.001225,\n",
    "    \"thermal oil\": 0.9,\n",
    "    \"glycol\": 1.11,\n",
    "    \"steam\": 0.000598,\n",
    "    \"nitrogen\": 0.001251,\n",
    "    \"carbon dioxide\": 0.001977,\n",
    "    \"ammonia\": 0.000682,\n",
    "    \"helium\": 0.000179\n",
    "}\n",
    "\n",
    "# Detailed thermal conductivities (W·m⁻¹·K⁻¹)\n",
    "thermal_conductivity = {\n",
    "    \"stainless steel\": 16,     # AISI 304\n",
    "    \"mild steel\": 50,          # Low carbon steel\n",
    "    \"iron\": 80,                # Pure iron\n",
    "    \"aluminum (pure)\": 237,    # 99.9% Al\n",
    "    \"aluminum (alloy)\": 120,   # Common alloy\n",
    "    \"copper (pure)\": 401,      # 99.9% Cu\n",
    "    \"copper (annealed)\": 385  # Softer, lower purity copper\n",
    "}\n",
    "\n",
    "# Dictionary of dynamic viscosity (Pa·s)\n",
    "viscosity = {\n",
    "    \"water\": 0.001,        # At 20°C\n",
    "    \"air\": 1.81e-5,       # At 20°C\n",
    "    \"thermal oil\": 0.05,   # Approx. for common thermal oils\n",
    "    \"glycol\": 0.02,        # Approx. for ethylene glycol\n",
    "    \"steam\": 1.2e-5,       # At 100°C\n",
    "    \"nitrogen\": 1.78e-5,   # At 20°C\n",
    "    \"carbon dioxide\": 1.48e-5,  # At 20°C\n",
    "    \"ammonia\": 1.0e-5,     # At 20°C\n",
    "    \"helium\": 1.96e-5      # At 20°C\n",
    "}\n",
    "\n",
    "# Dictionary of thermal conductivity for fluids (W/m·K)\n",
    "thermal_conductivity_fluid = {\n",
    "    \"water\": 0.6,          # At 20°C\n",
    "    \"air\": 0.026,         # At 20°C\n",
    "    \"thermal oil\": 0.15,   # Approx.\n",
    "    \"glycol\": 0.25,        # Approx. for ethylene glycol\n",
    "    \"steam\": 0.026,        # At 100°C\n",
    "    \"nitrogen\": 0.026,     # At 20°C\n",
    "    \"carbon dioxide\": 0.016,  # At 20°C\n",
    "    \"ammonia\": 0.022,      # At 20°C\n",
    "    \"helium\": 0.15         # At 20°C\n",
    "}\n",
    "\n",
    "import math\n",
    "\n",
    "# Definition of pipe dimensions, values to be adjusted according to your context\n",
    "diameter = 1\n",
    "thickness = 0.1\n",
    "length = 5\n",
    "gap = 0.5\n",
    "internal_fluid= \"ammonia\"\n",
    "external_fluid= \"water\"\n",
    "material= \"aluminum (pure)\"\n",
    "\n",
    "\n",
    "pipe_properties = {\"outer_diameter\": diameter + 2*thickness, \"thickness\": thickness, \"length\": length}\n",
    "pipe= pipe_properties\n",
    "\n",
    "external_pipe = {\n",
    "        \"inter_diameter\": pipe_properties[\"outer_diameter\"] + gap,\n",
    "        \"thickness\": pipe_properties[\"thickness\"],\n",
    "        \"length\": pipe_properties[\"length\"]\n",
    "    }\n",
    "\n",
    "def calculate_reynolds_number(fluid, mass_flow_rate, pipe_diameter):\n",
    "    \"\"\"\n",
    "    Calculates the Reynolds number.\n",
    "    \"\"\"\n",
    "    rho = density.get(fluid.lower(), 1.0)\n",
    "    mu = viscosity.get(fluid.lower(), 0.001)\n",
    "    area = math.pi * (pipe_diameter / 2) ** 2\n",
    "    velocity = mass_flow_rate / (rho * area)\n",
    "    Re = (rho * velocity * pipe_diameter) / mu\n",
    "    return Re\n",
    "\n",
    "Re_internal = calculate_reynolds_number(internal_fluid, 10, diameter)  # 10 is the mass flow rate, it can be changed\n",
    "Re_external = calculate_reynolds_number(external_fluid, 1,  external_pipe[\"inter_diameter\"]) # 1 is the mass flow rate, it can be changed\n",
    "print(f\"\\nReynolds number (internal fluid): {Re_internal:.2f}\")\n",
    "print(f\"Reynolds number (external fluid): {Re_external:.2f}\")\n",
    "\n",
    "def interpret_reynolds_number(Re):\n",
    "    \"\"\"\n",
    "    Returns a string describing the flow regime based on the Reynolds number.\n",
    "    \"\"\"\n",
    "    return \"Laminar\" if Re < 5000 else \"Turbulent\"\n",
    "\n",
    "print(f\"\\nReynolds number (internal fluid): {Re_internal:.2f} → {interpret_reynolds_number(Re_internal)}\")\n",
    "print(f\"Reynolds number (external fluid): {Re_external:.2f} → {interpret_reynolds_number(Re_external)}\")\n",
    "\n",
    "def calculate_prandtl_number(fluid):\n",
    "    \"\"\"\n",
    "    Calculate Prandtl number from dynamic viscosity, specific heat, and conductivity.\n",
    "    \"\"\"\n",
    "    mu = viscosity.get(fluid.lower(), 0.001)\n",
    "    cp = specific_heat_capacity.get(fluid.lower(), 4186)\n",
    "    k = thermal_conductivity_fluid.get(fluid.lower(), 0.6)\n",
    "    return mu * cp / k\n",
    "\n",
    "Pr_internal = calculate_prandtl_number(internal_fluid)\n",
    "Pr_external = calculate_prandtl_number(external_fluid)\n",
    "print(f\"\\nPrandtl number (internal fluid): {Pr_internal:.2f}\")\n",
    "print(f\"Prandtl number (external fluid): {Pr_external:.2f}\")\n",
    "\n",
    "def calculate_convection_coefficient(fluid, pipe_diameter, Re, Pr):\n",
    "    \"\"\"\n",
    "    Calculate the convection heat transfer coefficient.\n",
    "    \"\"\"\n",
    "    k = thermal_conductivity_fluid.get(fluid.lower(), 0.6)\n",
    "    if Re < 5000:  # Laminar\n",
    "        return 3.66 * k / pipe_diameter  # Constant wall temperature\n",
    "    else:  # Turbulent\n",
    "        return 0.023 * (Re ** 0.8) * (Pr ** 0.33) * k / pipe_diameter\n",
    "    \n",
    "h_internal = calculate_convection_coefficient( internal_fluid, diameter, Re_internal, Pr_internal)\n",
    "h_external = calculate_convection_coefficient( external_fluid, external_pipe[\"inter_diameter\"], Re_external, Pr_external)\n",
    "print(f\"\\nh (internal fluid): {h_internal:.2f} W·m⁻²·K⁻¹ \")\n",
    "print(f\"h (external fluid): {h_external:.2f} W·m⁻²·K⁻¹\")\n",
    "\n",
    "\n",
    "def calculate_overall_heat_transfer_coefficient(pipe, material, h_internal, h_external):\n",
    "    \"\"\"\n",
    "    Calculates the overall heat transfer coefficient U (W/m²·K).\n",
    "    \"\"\"\n",
    "    ri = pipe[\"outer_diameter\"] / 2 - pipe[\"thickness\"]\n",
    "    ro = pipe[\"outer_diameter\"] / 2\n",
    "    length = pipe[\"length\"]\n",
    "    k = thermal_conductivity.get(material.lower(), 16.0)\n",
    "\n",
    "    resistance_internal = 1 / (2 * math.pi * length * ri * h_internal)\n",
    "    resistance_wall = math.log(ro / ri) / (2 * math.pi * length * k)\n",
    "    resistance_external = 1 / (2 * math.pi * length * ro * h_external)\n",
    "\n",
    "    total_resistance = resistance_internal + resistance_wall + resistance_external\n",
    "    U = 1 / (2 * math.pi * length * ro * total_resistance)\n",
    "    return U\n",
    "U= calculate_overall_heat_transfer_coefficient(pipe, material, h_internal, h_external)\n",
    "print(f\"\\nU, the overall heat coefficient of the system is: {U:.2f} W·m⁻²·K⁻¹\")"
   ]
  },
  {
   "cell_type": "markdown",
   "id": "0673e364",
   "metadata": {},
   "source": [
    "Finally, the last important parameter is delta Tlm, which is more or less equivalent to the heat exchange efficiency. "
   ]
  },
  {
   "cell_type": "code",
   "execution_count": 34,
   "id": "28b9f6c4",
   "metadata": {},
   "outputs": [
    {
     "name": "stdout",
     "output_type": "stream",
     "text": [
      "\n",
      "Logarithmic Mean Temperature Difference (Tlm) = 88.83 K\n"
     ]
    }
   ],
   "source": [
    "\n",
    "def calculate_log_mean_temperature_difference(Q,U,A):\n",
    "    \"\"\"\n",
    "    Calculates the logarithmic mean temperature difference (Tlm) using:\n",
    "    Tlm = Q / (U * A)\n",
    "    \"\"\"\n",
    "    Tlm = Q / (U * A)\n",
    "    return Tlm\n",
    "\n",
    "# Example usage using the precedent values\n",
    "Q= 2093\n",
    "U=1.25\n",
    "A= 18.85\n",
    "Tlm= calculate_log_mean_temperature_difference(Q,U,A)\n",
    "print(f\"\\nLogarithmic Mean Temperature Difference (Tlm) = {Tlm:.2f} K\")"
   ]
  },
  {
   "cell_type": "markdown",
   "id": "c8bd6714",
   "metadata": {},
   "source": [
    "Let's move on to one of the main benefits of our programme, which is the generation of a report in LaTeX, which can be downloaded as a pdf and saved anywhere you like. This gives the main information calculated in order to formalise it, a bit like a technical data sheet or a lab report."
   ]
  },
  {
   "cell_type": "code",
   "execution_count": null,
   "id": "f94a13b7",
   "metadata": {},
   "outputs": [],
   "source": [
    "# JE NE SAIS PAS EXACTEMENT CE QUI EST IMPORTANT  A METTRE ICI"
   ]
  },
  {
   "cell_type": "markdown",
   "id": "8c7d7a4a",
   "metadata": {},
   "source": [
    "## Challenges encountered"
   ]
  },
  {
   "cell_type": "markdown",
   "id": "4c5d7f1d",
   "metadata": {},
   "source": [
    "The main difficulties encountered were related to the function defining U, creating the interface, and generating the report.\n",
    "The U function created a lot of problems because it links a lot of non-constant data together, especially in a cylindrical system like a pipe. Furthermore, to calculate it, convection coefficients are required, which are a mix of many parameters. In fact, in the course we used as a support, these are systematically given in the statements; we don't have precise formulas for it. Thus, additional research oriented by the TEs and Prof. Buonsanti was conducted with the aim of having the most accurate simulation possible. Despite this, the formulas remain complex, and approximations had to be made based on the formulas given in the reference books.Moreover, we have no information regarding the precise boundary between laminar and turbulent regime, which is not a fixed value in the literature, so an arbitrary value was chosen: . \n",
    "\n",
    "CE PARAGRAPHE EST A COMPLETER PAR VOUS DEUX SELON LES PRINCIPAUX CHALLENGES QUE VOUS AVEZ RENCONTRES\n"
   ]
  },
  {
   "cell_type": "markdown",
   "id": "a9ad8f45",
   "metadata": {},
   "source": [
    "## Limitations\n",
    "\n",
    "\n",
    "The complete package does, however, have a few limitations. Indeed, as said in the paragraph above, the boundary between turbulent and laminar is not clear. In reality, regimes lie between the two, but are very complex to define, and therefore even more to understand and code. This goes well beyond the course used as a support. That is why it would be interesting to resume this program later, when we have more knowledge.\n",
    "In addition, this program requests information on the nature of the fluid, but this list is limited, and it could be interesting to improve it with machine learning so that it would allow to use just by putting the name of the fluid, find all information on the Internet."
   ]
  },
  {
   "cell_type": "markdown",
   "id": "251e6ccf",
   "metadata": {},
   "source": [
    "## Thanks for reading the notebook ! Hope you found it useful and eventually even interesting."
   ]
  }
 ],
 "metadata": {
  "kernelspec": {
   "display_name": "ppchem",
   "language": "python",
   "name": "python3"
  },
  "language_info": {
   "codemirror_mode": {
    "name": "ipython",
    "version": 3
   },
   "file_extension": ".py",
   "mimetype": "text/x-python",
   "name": "python",
   "nbconvert_exporter": "python",
   "pygments_lexer": "ipython3",
   "version": "3.10.16"
  }
 },
 "nbformat": 4,
 "nbformat_minor": 5
}
